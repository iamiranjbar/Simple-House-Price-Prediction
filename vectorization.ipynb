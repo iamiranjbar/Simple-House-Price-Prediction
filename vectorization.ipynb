{
 "cells": [
  {
   "cell_type": "markdown",
   "metadata": {},
   "source": [
    "# Vectorization\n",
    "\n",
    "Vectorization is the art of getting rid of explicit for loops in your code.\n",
    "This will allow your code to run much faster, which is crucial when training on large datasets, and will also simplify your code and make it easier to read. This is why the ability to perform vectorization has become a key skill in the era of deep learning.\n",
    "\n",
    "## so, what exactly is vectorization?\n",
    "\n",
    "Let's start with an example.\n",
    "Let's assume that you have two one dimensional vectors of size N = 1000000 (one million):"
   ]
  },
  {
   "cell_type": "code",
   "execution_count": 2,
   "metadata": {},
   "outputs": [],
   "source": [
    "import numpy as np\n",
    "\n",
    "N = 1000000\n",
    "a = np.random.rand(N)\n",
    "b = np.random.rand(N)"
   ]
  },
  {
   "cell_type": "markdown",
   "metadata": {},
   "source": [
    "And let's say that you want to compute the following expression:\n",
    "$$z = \\sum_{i=1}^{N}a_i * b_i$$\n",
    "A non-vectorized implementation might look like this:"
   ]
  },
  {
   "cell_type": "code",
   "execution_count": 3,
   "metadata": {},
   "outputs": [
    {
     "name": "stdout",
     "output_type": "stream",
     "text": [
      "250059.47561090183\n"
     ]
    }
   ],
   "source": [
    "z = 0\n",
    "for i in range(N):\n",
    "    z += a[i] * b[i]\n",
    "print(z)"
   ]
  },
  {
   "cell_type": "markdown",
   "metadata": {},
   "source": [
    "In contrast a vectorized implementation will just compute the expression above directly. <br/>\n",
    "To do that in numpy, all you have to do is:"
   ]
  },
  {
   "cell_type": "code",
   "execution_count": 4,
   "metadata": {},
   "outputs": [
    {
     "name": "stdout",
     "output_type": "stream",
     "text": [
      "250059.47561089724\n"
     ]
    }
   ],
   "source": [
    "z = np.dot(a,b)\n",
    "print(z)"
   ]
  },
  {
   "cell_type": "markdown",
   "metadata": {},
   "source": [
    "Note that the number printed by both cells are exactly the same, which shows that they are doing the exact same thing. <br/>\n",
    "Now remember that we said vectorization will make your code run much faster. Let's see that in action:"
   ]
  },
  {
   "cell_type": "code",
   "execution_count": 5,
   "metadata": {},
   "outputs": [
    {
     "name": "stdout",
     "output_type": "stream",
     "text": [
      "non-vectorized version computed 250059.47561090183 and took 421.6430187225342ms\n",
      "vectorized version computed 250059.47561089724 and took 0.9417533874511719ms\n"
     ]
    }
   ],
   "source": [
    "import time\n",
    "\n",
    "tic = time.time()\n",
    "z = 0\n",
    "for i in range(N):\n",
    "    z += a[i] * b[i]\n",
    "toc = time.time()\n",
    "print('non-vectorized version computed {} and took {}ms'.format(z, (toc-tic) * 1000))\n",
    "\n",
    "\n",
    "tic = time.time()\n",
    "z = np.dot(a,b)\n",
    "toc = time.time()\n",
    "print('vectorized version computed {} and took {}ms'.format(z, (toc-tic) * 1000))"
   ]
  },
  {
   "cell_type": "markdown",
   "metadata": {},
   "source": [
    "As you can see, the vectorized version is much quicker than the other version. So, if you remember to vectorize your code it will run roughly 300 times faster. That is the difference between your code taking **1 minute** to run, versus taking say **5 hours** to run. <br/>\n",
    "This speed-up is due to the optimized implementation of the numpy library:\n",
    "- Numpy arrays are densely packed arrays of homogenous type. Python arrays, however, are arrays of pointers to objects. So numpy arrays benefit from *locality of reference*.\n",
    "- Numpy operations are implemented in C, which use *SIMD* (Single instruction multiple data) instructions to benefit from parallelism. \n",
    "\n",
    "So, the key takeaway is:\n",
    "**<center>Whenever possible, avoid explicit for-loops.<center/>**\n"
   ]
  },
  {
   "cell_type": "markdown",
   "metadata": {},
   "source": [
    "## Exercise\n",
    "As an excercise, try to find the vectorized implementation of the following non-vectorized pieces of code.\n",
    "When delivering this project, you should have the completed version of this notebook with you. Add your code only in the area specified by *WRITE YOUR CODE HERE*, and do **NOT** change anywhere else."
   ]
  },
  {
   "cell_type": "code",
   "execution_count": 7,
   "metadata": {},
   "outputs": [
    {
     "name": "stdout",
     "output_type": "stream",
     "text": [
      "non-vectorized: [3.20818682e-01 9.50247624e-01 7.39766586e-01 8.21804610e-04\n",
      " 1.36003908e-01 5.75787371e-02 1.28600028e-01 4.46963710e-01\n",
      " 1.43050741e-03 4.16634479e-01]\n",
      "vectorized: [3.20818682e-01 9.50247624e-01 7.39766586e-01 8.21804610e-04\n",
      " 1.36003908e-01 5.75787371e-02 1.28600028e-01 4.46963710e-01\n",
      " 1.43050741e-03 4.16634479e-01]\n"
     ]
    }
   ],
   "source": [
    "v = np.random.rand(10)\n",
    "u = np.empty(10)\n",
    "\n",
    "# non-vectorized implementation:\n",
    "for i in range(10):\n",
    "    u[i] = v[i] ** 2\n",
    "print('non-vectorized:', u)\n",
    "\n",
    "# vectorized implementation:\n",
    "u = v ** 2\n",
    "\n",
    "print('vectorized:', u)"
   ]
  },
  {
   "cell_type": "code",
   "execution_count": 8,
   "metadata": {},
   "outputs": [
    {
     "name": "stdout",
     "output_type": "stream",
     "text": [
      "non-vectorized: 0.9649236325123605\n",
      "vectorized: 0.9649236325123605\n"
     ]
    }
   ],
   "source": [
    "v = np.random.rand(10)\n",
    "\n",
    "# non-vectorized implementation:\n",
    "u = float('-inf')\n",
    "for i in range(10):\n",
    "    if v[i] > u:\n",
    "        u  = v[i]\n",
    "print('non-vectorized:', u)\n",
    "\n",
    "\n",
    "\n",
    "# vectorized implementation:\n",
    "u = max(v)\n",
    "\n",
    "print('vectorized:', u)"
   ]
  },
  {
   "cell_type": "markdown",
   "metadata": {},
   "source": [
    "Vectorization isn't just suitable for calculating predefined functions. you can combine different numpy functions to create more complex ones. <br/>\n",
    "You should now have enough knowledge to write a vectorized code to compute the following expression (DO **NOT** use any for loops):\n",
    "$$u = \\frac{1}{N}\\sum_{i=1}^{N}|a_i - b_i|$$"
   ]
  },
  {
   "cell_type": "code",
   "execution_count": 19,
   "metadata": {},
   "outputs": [
    {
     "name": "stdout",
     "output_type": "stream",
     "text": [
      "non-vectorized: 0.23823986823149373\n",
      "vectorized: 0.23823986823149373\n"
     ]
    }
   ],
   "source": [
    "a = np.random.rand(10)\n",
    "b = np.random.rand(10)\n",
    "\n",
    "# non-vectorized implementation:\n",
    "u = 0\n",
    "for i in range(10):\n",
    "    u += abs(a[i] - b[i])\n",
    "u /= 10\n",
    "print('non-vectorized:', u)\n",
    "        \n",
    "# vectorized implementation:\n",
    "u = np.mean(np.absolute(a-b))\n",
    "\n",
    "print('vectorized:', u)"
   ]
  },
  {
   "cell_type": "markdown",
   "metadata": {},
   "source": [
    "# Sources:\n",
    "- [Neural Networks and Deep Learning: Coursera Course by Andrew NG](https://www.youtube.com/watch?v=qsIrQi0fzbY)"
   ]
  }
 ],
 "metadata": {
  "kernelspec": {
   "display_name": "Python 3",
   "language": "python",
   "name": "python3"
  },
  "language_info": {
   "codemirror_mode": {
    "name": "ipython",
    "version": 3
   },
   "file_extension": ".py",
   "mimetype": "text/x-python",
   "name": "python",
   "nbconvert_exporter": "python",
   "pygments_lexer": "ipython3",
   "version": "3.7.3"
  }
 },
 "nbformat": 4,
 "nbformat_minor": 2
}
